{
 "cells": [
  {
   "cell_type": "code",
   "execution_count": 93,
   "metadata": {},
   "outputs": [],
   "source": [
    "import pandas as pd\n",
    "#pd.set_option('display.max_colwidth', 0)"
   ]
  },
  {
   "cell_type": "code",
   "execution_count": null,
   "metadata": {},
   "outputs": [],
   "source": [
    "#loading data"
   ]
  },
  {
   "cell_type": "code",
   "execution_count": 94,
   "metadata": {},
   "outputs": [],
   "source": [
    "jeopardy = pd.read_csv('D:/Users/Loz/code_academy/jeopardy_project/jeopardy_starting/jeopardy.csv')\n",
    "\n",
    "#print(jeopardy.head())\n",
    "\n",
    "#print(jeopardy.columns)"
   ]
  },
  {
   "cell_type": "code",
   "execution_count": null,
   "metadata": {},
   "outputs": [],
   "source": [
    "#Cleaning column names"
   ]
  },
  {
   "cell_type": "code",
   "execution_count": 95,
   "metadata": {},
   "outputs": [
    {
     "name": "stdout",
     "output_type": "stream",
     "text": [
      "Index(['Show Number', 'Air Date', 'Round', 'Category', 'Value', 'Question',\n",
      "       'Answer'],\n",
      "      dtype='object')\n"
     ]
    }
   ],
   "source": [
    "jeopardy.rename(columns = {\n",
    "  ' Air Date' : 'Air Date',\n",
    "  ' Round' : 'Round',\n",
    "  ' Category' : 'Category',\n",
    "  ' Value' : 'Value',\n",
    "  ' Question' : 'Question',\n",
    "  ' Answer' : 'Answer'  \n",
    "  },\n",
    "  inplace = True)\n",
    "\n",
    "#print(jeopardy.head())\n",
    "print(jeopardy.columns)\n",
    "#print(jeopardy.dtypes)"
   ]
  },
  {
   "cell_type": "code",
   "execution_count": null,
   "metadata": {},
   "outputs": [],
   "source": [
    "#Creating function to search through the questions"
   ]
  },
  {
   "cell_type": "code",
   "execution_count": 96,
   "metadata": {},
   "outputs": [],
   "source": [
    "def filtered_data(data, words):\n",
    "    filter = lambda x: all(word.lower() in x.lower() for word in words)\n",
    "    return data.loc[data['Question'].apply(filter)]\n",
    "\n",
    "filtered = filtered_data(jeopardy, [\"King\", \"England\"])\n",
    "#print(filtered)\n"
   ]
  },
  {
   "cell_type": "code",
   "execution_count": null,
   "metadata": {},
   "outputs": [],
   "source": [
    "#Removing $ sign and , and converting to a float"
   ]
  },
  {
   "cell_type": "code",
   "execution_count": 97,
   "metadata": {},
   "outputs": [
    {
     "name": "stdout",
     "output_type": "stream",
     "text": [
      "Show Number    int64  \n",
      "Air Date       object \n",
      "Round          object \n",
      "Category       object \n",
      "Value          float64\n",
      "Question       object \n",
      "Answer         object \n",
      "dtype: object\n"
     ]
    }
   ],
   "source": [
    "jeopardy['Value'] = jeopardy['Value'].apply(lambda x: float(x[1:].replace(',','')) if x != \"None\" else 0)\n",
    "\n",
    "\n",
    "#print(jeopardy.head())\n",
    "print(jeopardy.dtypes)"
   ]
  },
  {
   "cell_type": "code",
   "execution_count": null,
   "metadata": {},
   "outputs": [],
   "source": [
    "#Finding average value of quesitons involing the word king"
   ]
  },
  {
   "cell_type": "code",
   "execution_count": 99,
   "metadata": {},
   "outputs": [
    {
     "name": "stdout",
     "output_type": "stream",
     "text": [
      "771.8833850722094\n"
     ]
    }
   ],
   "source": [
    "filtered = filtered_data(jeopardy, [\"King\"])\n",
    "print(filtered['Value'].mean())"
   ]
  },
  {
   "cell_type": "code",
   "execution_count": 101,
   "metadata": {},
   "outputs": [
    {
     "name": "stdout",
     "output_type": "stream",
     "text": [
      "Henry VIII           55\n",
      "Solomon              35\n",
      "Richard III          33\n",
      "Louis XIV            31\n",
      "David                30\n",
      "                     ..\n",
      "Leonid Brezhnev      1 \n",
      "pass interference    1 \n",
      "Come full circle     1 \n",
      "bird's nest soup     1 \n",
      "earrings             1 \n",
      "Name: Answer, Length: 5268, dtype: int64\n"
     ]
    }
   ],
   "source": [
    "def answer_counts(data):\n",
    "    return data['Answer'].value_counts()\n",
    "\n",
    "print(answer_counts(filtered))\n",
    "    "
   ]
  }
 ],
 "metadata": {
  "kernelspec": {
   "display_name": "Python 3",
   "language": "python",
   "name": "python3"
  },
  "language_info": {
   "codemirror_mode": {
    "name": "ipython",
    "version": 3
   },
   "file_extension": ".py",
   "mimetype": "text/x-python",
   "name": "python",
   "nbconvert_exporter": "python",
   "pygments_lexer": "ipython3",
   "version": "3.7.6"
  }
 },
 "nbformat": 4,
 "nbformat_minor": 4
}
